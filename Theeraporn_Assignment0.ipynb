{
  "nbformat": 4,
  "nbformat_minor": 0,
  "metadata": {
    "colab": {
      "provenance": [],
      "include_colab_link": true
    },
    "kernelspec": {
      "name": "python3",
      "display_name": "Python 3"
    },
    "language_info": {
      "name": "python"
    }
  },
  "cells": [
    {
      "cell_type": "markdown",
      "metadata": {
        "id": "view-in-github",
        "colab_type": "text"
      },
      "source": [
        "<a href=\"https://colab.research.google.com/github/TheerapornKaewchada/assignment0/blob/main/Theeraporn_Assignment0.ipynb\" target=\"_parent\"><img src=\"https://colab.research.google.com/assets/colab-badge.svg\" alt=\"Open In Colab\"/></a>"
      ]
    },
    {
      "cell_type": "code",
      "source": [
        "# ธีราภรณ์ แก้วชฎา 6404053620053"
      ],
      "metadata": {
        "id": "3XBK7KSRmE01"
      },
      "execution_count": null,
      "outputs": []
    },
    {
      "cell_type": "markdown",
      "source": [
        "ข้อ 1. Consider a sequence of n Bernoulli trials with success probabilty p per trial. A string of consecutive successes is known as a success run. Write a function that returns the counts for runs of length k for each k observed in a dictionary."
      ],
      "metadata": {
        "id": "sZEwJjOUZdW8"
      }
    },
    {
      "cell_type": "code",
      "source": [
        "import numpy as np\n",
        "from collections import Counter\n",
        "\n",
        "def count_runs(xs):\n",
        "    \"\"\"Count number of success runs of length k.\"\"\"\n",
        "    ys = []\n",
        "    count = 0\n",
        "    for x in xs:\n",
        "        if x == 1:\n",
        "            count += 1\n",
        "        else:\n",
        "            if count: ys.append(count)\n",
        "            count = 0\n",
        "    if count: ys.append(count)\n",
        "    return Counter(ys)\n",
        "count_runs([0, 1, 0, 1, 1, 0, 0, 0, 0, 1],)"
      ],
      "metadata": {
        "id": "tjVOUR4RTu8T",
        "colab": {
          "base_uri": "https://localhost:8080/"
        },
        "outputId": "ca08bcc2-68c1-4be9-da9b-a8e297c8f8b2"
      },
      "execution_count": null,
      "outputs": [
        {
          "output_type": "execute_result",
          "data": {
            "text/plain": [
              "Counter({1: 2, 2: 1})"
            ]
          },
          "metadata": {},
          "execution_count": 7
        }
      ]
    },
    {
      "cell_type": "code",
      "source": [
        "count_runs(np.random.randint(0,2,1000000))"
      ],
      "metadata": {
        "colab": {
          "base_uri": "https://localhost:8080/"
        },
        "id": "dCfmA5deZWjq",
        "outputId": "8d158185-81f3-4b23-f6ab-b74251a990af"
      },
      "execution_count": null,
      "outputs": [
        {
          "output_type": "execute_result",
          "data": {
            "text/plain": [
              "Counter({2: 62880,\n",
              "         1: 125644,\n",
              "         3: 31252,\n",
              "         6: 3922,\n",
              "         5: 7739,\n",
              "         4: 15346,\n",
              "         8: 998,\n",
              "         7: 1919,\n",
              "         10: 251,\n",
              "         12: 65,\n",
              "         9: 465,\n",
              "         13: 26,\n",
              "         16: 6,\n",
              "         11: 120,\n",
              "         14: 17,\n",
              "         15: 10,\n",
              "         17: 2,\n",
              "         18: 1,\n",
              "         21: 1,\n",
              "         19: 1})"
            ]
          },
          "metadata": {},
          "execution_count": 3
        }
      ]
    },
    {
      "cell_type": "markdown",
      "source": [
        "ข้อ 2. Continuing from Part 1, what is the probability of observing at least one run of length 5 or more when n=100 and p=0.5?. Estimate this from 100,000 simulated experiments. Is this more, less or equally likely than finding runs of length 7 or more when p=0.7 ?"
      ],
      "metadata": {
        "id": "OiQ0vt5tZ-Z2"
      }
    },
    {
      "cell_type": "code",
      "source": [
        "def run_prob(expts, n, k, p):\n",
        "    xxs = np.random.choice([0,1], (expts, n), p=(1-p, p))\n",
        "    return sum(max(d.keys()) >= k for d in map(count_runs, xxs))/expts"
      ],
      "metadata": {
        "id": "WQPW6VyuZweM"
      },
      "execution_count": null,
      "outputs": []
    },
    {
      "cell_type": "code",
      "source": [
        "run_prob(expts=100000, n=100, k=5, p=0.5)"
      ],
      "metadata": {
        "colab": {
          "base_uri": "https://localhost:8080/"
        },
        "id": "kDkk_DDOaBtS",
        "outputId": "fb42a7c5-188f-40e8-cc2e-f0c60778dac8"
      },
      "execution_count": null,
      "outputs": [
        {
          "output_type": "execute_result",
          "data": {
            "text/plain": [
              "0.80979"
            ]
          },
          "metadata": {},
          "execution_count": 9
        }
      ]
    },
    {
      "cell_type": "code",
      "source": [
        "run_prob(expts=100000, n=100, k=7, p=0.7)"
      ],
      "metadata": {
        "colab": {
          "base_uri": "https://localhost:8080/"
        },
        "id": "Hx47gpKeaEKw",
        "outputId": "746a62ca-90b6-4a6c-9bd8-111d5a90efb3"
      },
      "execution_count": null,
      "outputs": [
        {
          "output_type": "execute_result",
          "data": {
            "text/plain": [
              "0.94895"
            ]
          },
          "metadata": {},
          "execution_count": 10
        }
      ]
    }
  ]
}